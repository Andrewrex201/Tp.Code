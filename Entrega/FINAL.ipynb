{
 "cells": [
  {
   "cell_type": "markdown",
   "id": "6fdfbe9f",
   "metadata": {},
   "source": [
    "Abstract:\n",
    "\n",
    "Este proyecto se centra en el análisis del dataset dado por la Dirección Nacional de los Registros Nacionales de la Propiedad del Automotor (DNRPA), que detalla embargos y levantamientos de embargos sobre automotores en Argentina. El dataset incluye 4,600 registros y 25 variables que describen el trámite, el vehículo y el titular."
   ]
  },
  {
   "cell_type": "markdown",
   "id": "a5e98635",
   "metadata": {},
   "source": [
    "✅ 1: ¿Cuál es la relación entre el tipo de trámite y la provincia de registro?\n",
    "\n",
    "\n",
    " Hipótesis: Hay provincias donde los levantamientos de embargos son más frecuentes que las anotaciones de embargos.\n",
    "\n",
    "✅ Pregunta 2: ¿Existe una relación entre el año del modelo del automotor y la probabilidad de que el vehículo sea embargado o liberado de un embargo?\n",
    "\n",
    "Hipótesis:\n",
    "Los automotores más nuevos presentan una menor proporción de embargos judiciales y una mayor proporción de levantamientos de embargos, posiblemente debido a su mayor valor de mercado y a que suelen estar más al día con la documentación y obligaciones legales.\n",
    "\n",
    "✅ Pregunta 3: ¿Existe una relación entre el año del modelo del automotor y el año en que fue inscripto inicialmente en el registro?\n",
    "\n",
    "Hipótesis:\n",
    "La mayoría de los vehículos se inscriben poco después de su fabricación, aunque pueden existir algunas variaciones por falta de papeles.\n",
    "\n",
    "✅ Pregunta 4:¿Existe una diferencia significativa en la distribución de embargos judiciales sobre automotores según el género del titular?\n",
    "\n",
    "Los embargos judiciales sobre automotores afectan principalmente a titulares masculinos, reflejando tanto la mayor titularidad de vehículos por parte de hombres como posibles diferencias en el acceso y uso del crédito o la exposición a conflictos judiciales según el género."
   ]
  },
  {
   "cell_type": "code",
   "execution_count": 371,
   "id": "f05a69b1",
   "metadata": {},
   "outputs": [],
   "source": [
    "import pandas as pd\n",
    "import numpy as np\n",
    "import matplotlib.pyplot as plt\n",
    "import plotly.express as px\n",
    "import seaborn as sns"
   ]
  },
  {
   "cell_type": "code",
   "execution_count": 372,
   "id": "c3073707",
   "metadata": {},
   "outputs": [
    {
     "name": "stdout",
     "output_type": "stream",
     "text": [
      "Consta de (4600, 25)\n"
     ]
    },
    {
     "data": {
      "text/html": [
       "<div>\n",
       "<style scoped>\n",
       "    .dataframe tbody tr th:only-of-type {\n",
       "        vertical-align: middle;\n",
       "    }\n",
       "\n",
       "    .dataframe tbody tr th {\n",
       "        vertical-align: top;\n",
       "    }\n",
       "\n",
       "    .dataframe thead th {\n",
       "        text-align: right;\n",
       "    }\n",
       "</style>\n",
       "<table border=\"1\" class=\"dataframe\">\n",
       "  <thead>\n",
       "    <tr style=\"text-align: right;\">\n",
       "      <th></th>\n",
       "      <th>tramite_tipo</th>\n",
       "      <th>tramite_fecha</th>\n",
       "      <th>fecha_inscripcion_inicial</th>\n",
       "      <th>registro_seccional_codigo</th>\n",
       "      <th>registro_seccional_descripcion</th>\n",
       "      <th>registro_seccional_provincia</th>\n",
       "      <th>automotor_origen</th>\n",
       "      <th>automotor_anio_modelo</th>\n",
       "      <th>automotor_tipo_codigo</th>\n",
       "      <th>automotor_tipo_descripcion</th>\n",
       "      <th>...</th>\n",
       "      <th>automotor_uso_descripcion</th>\n",
       "      <th>titular_tipo_persona</th>\n",
       "      <th>titular_domicilio_localidad</th>\n",
       "      <th>titular_domicilio_provincia</th>\n",
       "      <th>titular_genero</th>\n",
       "      <th>titular_anio_nacimiento</th>\n",
       "      <th>titular_pais_nacimiento</th>\n",
       "      <th>titular_porcentaje_titularidad</th>\n",
       "      <th>titular_domicilio_provincia_id</th>\n",
       "      <th>titular_pais_nacimiento_id</th>\n",
       "    </tr>\n",
       "  </thead>\n",
       "  <tbody>\n",
       "    <tr>\n",
       "      <th>0</th>\n",
       "      <td>MEDIDAS JUDICIALES - LEVANTAMIENTO</td>\n",
       "      <td>2025-04-01</td>\n",
       "      <td>2013-01-08</td>\n",
       "      <td>1150</td>\n",
       "      <td>AVELLANEDA Nº 3</td>\n",
       "      <td>Buenos Aires</td>\n",
       "      <td>Protocolo 21</td>\n",
       "      <td>2013.0</td>\n",
       "      <td>92</td>\n",
       "      <td>TRACTOR C/CABINA DORMITORIO</td>\n",
       "      <td>...</td>\n",
       "      <td>Privado</td>\n",
       "      <td>Jurídica</td>\n",
       "      <td>AVELLANEDA</td>\n",
       "      <td>BUENOS AIRES</td>\n",
       "      <td>No aplica</td>\n",
       "      <td>2004</td>\n",
       "      <td>No aplica</td>\n",
       "      <td>100.0</td>\n",
       "      <td>6</td>\n",
       "      <td>NaN</td>\n",
       "    </tr>\n",
       "  </tbody>\n",
       "</table>\n",
       "<p>1 rows × 25 columns</p>\n",
       "</div>"
      ],
      "text/plain": [
       "                         tramite_tipo tramite_fecha fecha_inscripcion_inicial  \\\n",
       "0  MEDIDAS JUDICIALES - LEVANTAMIENTO    2025-04-01                2013-01-08   \n",
       "\n",
       "   registro_seccional_codigo registro_seccional_descripcion  \\\n",
       "0                       1150                AVELLANEDA Nº 3   \n",
       "\n",
       "  registro_seccional_provincia automotor_origen  automotor_anio_modelo  \\\n",
       "0                 Buenos Aires     Protocolo 21                 2013.0   \n",
       "\n",
       "  automotor_tipo_codigo   automotor_tipo_descripcion  ...  \\\n",
       "0                    92  TRACTOR C/CABINA DORMITORIO  ...   \n",
       "\n",
       "  automotor_uso_descripcion titular_tipo_persona titular_domicilio_localidad  \\\n",
       "0                   Privado             Jurídica                  AVELLANEDA   \n",
       "\n",
       "  titular_domicilio_provincia  titular_genero titular_anio_nacimiento  \\\n",
       "0                BUENOS AIRES       No aplica                    2004   \n",
       "\n",
       "  titular_pais_nacimiento titular_porcentaje_titularidad  \\\n",
       "0               No aplica                          100.0   \n",
       "\n",
       "  titular_domicilio_provincia_id titular_pais_nacimiento_id  \n",
       "0                              6                        NaN  \n",
       "\n",
       "[1 rows x 25 columns]"
      ]
     },
     "execution_count": 372,
     "metadata": {},
     "output_type": "execute_result"
    }
   ],
   "source": [
    "df = pd.read_csv(\"C:\\\\Users\\\\andre\\\\OneDrive\\\\Escritorio\\\\Data Science- CoderHouse\\\\Entrega\\\\dnrpa-embargos-levantamiento-embargos-autos-202504.csv\")\n",
    "print(\"Consta de\", df.shape)\n",
    "\n",
    "df.head(1)"
   ]
  },
  {
   "cell_type": "code",
   "execution_count": 373,
   "id": "40d85c91",
   "metadata": {},
   "outputs": [
    {
     "name": "stdout",
     "output_type": "stream",
     "text": [
      " 1. tramite_tipo\n",
      " 2. tramite_fecha\n",
      " 3. fecha_inscripcion_inicial\n",
      " 4. registro_seccional_codigo\n",
      " 5. registro_seccional_descripcion\n",
      " 6. registro_seccional_provincia\n",
      " 7. automotor_origen\n",
      " 8. automotor_anio_modelo\n",
      " 9. automotor_tipo_codigo\n",
      "10. automotor_tipo_descripcion\n",
      "11. automotor_marca_codigo\n",
      "12. automotor_marca_descripcion\n",
      "13. automotor_modelo_codigo\n",
      "14. automotor_modelo_descripcion\n",
      "15. automotor_uso_codigo\n",
      "16. automotor_uso_descripcion\n",
      "17. titular_tipo_persona\n",
      "18. titular_domicilio_localidad\n",
      "19. titular_domicilio_provincia\n",
      "20. titular_genero\n",
      "21. titular_anio_nacimiento\n",
      "22. titular_pais_nacimiento\n",
      "23. titular_porcentaje_titularidad\n",
      "24. titular_domicilio_provincia_id\n",
      "25. titular_pais_nacimiento_id\n"
     ]
    }
   ],
   "source": [
    "for i, col in enumerate(df.columns, 1):\n",
    "    print(f\"{i:2d}. {col}\")"
   ]
  },
  {
   "cell_type": "markdown",
   "id": "4f4641d5",
   "metadata": {},
   "source": [
    "Veo si existen valores nulos en el dataset, y si afecta de alguna manera a las hipotesis/preguntas generadas"
   ]
  },
  {
   "cell_type": "code",
   "execution_count": 374,
   "id": "fd56b7d7",
   "metadata": {},
   "outputs": [
    {
     "data": {
      "text/plain": [
       "tramite_tipo                        0\n",
       "tramite_fecha                       0\n",
       "fecha_inscripcion_inicial           0\n",
       "registro_seccional_codigo           0\n",
       "registro_seccional_descripcion      0\n",
       "registro_seccional_provincia        0\n",
       "automotor_origen                    0\n",
       "automotor_anio_modelo              35\n",
       "automotor_tipo_codigo             126\n",
       "automotor_tipo_descripcion          0\n",
       "automotor_marca_codigo             62\n",
       "automotor_marca_descripcion         0\n",
       "automotor_modelo_codigo            93\n",
       "automotor_modelo_descripcion        0\n",
       "automotor_uso_codigo                0\n",
       "automotor_uso_descripcion           0\n",
       "titular_tipo_persona                0\n",
       "titular_domicilio_localidad         2\n",
       "titular_domicilio_provincia         0\n",
       "titular_genero                      0\n",
       "titular_anio_nacimiento             0\n",
       "titular_pais_nacimiento             0\n",
       "titular_porcentaje_titularidad      0\n",
       "titular_domicilio_provincia_id      0\n",
       "titular_pais_nacimiento_id        849\n",
       "dtype: int64"
      ]
     },
     "execution_count": 374,
     "metadata": {},
     "output_type": "execute_result"
    }
   ],
   "source": [
    "df.isnull().sum()"
   ]
  },
  {
   "cell_type": "markdown",
   "id": "5939dff2",
   "metadata": {},
   "source": [
    "1-Relación entre el tipo de trámite y la provincia de registro"
   ]
  },
  {
   "cell_type": "code",
   "execution_count": 375,
   "id": "2b14de2e",
   "metadata": {},
   "outputs": [
    {
     "data": {
      "application/vnd.plotly.v1+json": {
       "config": {
        "plotlyServerURL": "https://plot.ly"
       },
       "data": [
        {
         "hovertemplate": "Tramite Tipo=MEDIDAS JUDICIALES - ANOTACION<br>Provincia=%{x}<br>Totalidad de Trámites=%{y}<extra></extra>",
         "legendgroup": "MEDIDAS JUDICIALES - ANOTACION",
         "marker": {
          "color": "#636efa",
          "pattern": {
           "shape": ""
          }
         },
         "name": "MEDIDAS JUDICIALES - ANOTACION",
         "orientation": "v",
         "showlegend": true,
         "textposition": "auto",
         "type": "bar",
         "x": [
          "Buenos Aires",
          "Catamarca",
          "Chaco",
          "Chubut",
          "Ciudad Autónoma de Buenos Aires",
          "Corrientes",
          "Córdoba",
          "Entre Ríos",
          "Formosa",
          "Jujuy",
          "La Pampa",
          "La Rioja",
          "Mendoza",
          "Misiones",
          "Neuquén",
          "Río Negro",
          "Salta",
          "San Juan",
          "San Luis",
          "Santa Cruz",
          "Santa Fe",
          "Santiago del Estero",
          "Tierra del Fuego",
          "Tucumán"
         ],
         "xaxis": "x",
         "y": {
          "bdata": "kAIcAJcASwCDADgAAgPYABoAgAAwABYAhQFRADgAHwBTAD4AHgAMAPwAJQAOAGcA",
          "dtype": "i2"
         },
         "yaxis": "y"
        },
        {
         "hovertemplate": "Tramite Tipo=MEDIDAS JUDICIALES - LEVANTAMIENTO<br>Provincia=%{x}<br>Totalidad de Trámites=%{y}<extra></extra>",
         "legendgroup": "MEDIDAS JUDICIALES - LEVANTAMIENTO",
         "marker": {
          "color": "#EF553B",
          "pattern": {
           "shape": ""
          }
         },
         "name": "MEDIDAS JUDICIALES - LEVANTAMIENTO",
         "orientation": "v",
         "showlegend": true,
         "textposition": "auto",
         "type": "bar",
         "x": [
          "Buenos Aires",
          "Catamarca",
          "Chaco",
          "Chubut",
          "Ciudad Autónoma de Buenos Aires",
          "Corrientes",
          "Córdoba",
          "Entre Ríos",
          "Formosa",
          "Jujuy",
          "La Pampa",
          "La Rioja",
          "Mendoza",
          "Misiones",
          "Neuquén",
          "Río Negro",
          "Salta",
          "San Juan",
          "San Luis",
          "Santa Cruz",
          "Santa Fe",
          "Santiago del Estero",
          "Tierra del Fuego",
          "Tucumán"
         ],
         "xaxis": "x",
         "y": {
          "bdata": "UQEBABoACwAoAAgABgEyAAMAEwA1AAUAcgAlABEABgAQAAUADAACAE8ABAAJABsA",
          "dtype": "i2"
         },
         "yaxis": "y"
        }
       ],
       "layout": {
        "barmode": "relative",
        "legend": {
         "title": {
          "text": "Tramite Tipo"
         },
         "tracegroupgap": 0
        },
        "template": {
         "data": {
          "bar": [
           {
            "error_x": {
             "color": "#2a3f5f"
            },
            "error_y": {
             "color": "#2a3f5f"
            },
            "marker": {
             "line": {
              "color": "#E5ECF6",
              "width": 0.5
             },
             "pattern": {
              "fillmode": "overlay",
              "size": 10,
              "solidity": 0.2
             }
            },
            "type": "bar"
           }
          ],
          "barpolar": [
           {
            "marker": {
             "line": {
              "color": "#E5ECF6",
              "width": 0.5
             },
             "pattern": {
              "fillmode": "overlay",
              "size": 10,
              "solidity": 0.2
             }
            },
            "type": "barpolar"
           }
          ],
          "carpet": [
           {
            "aaxis": {
             "endlinecolor": "#2a3f5f",
             "gridcolor": "white",
             "linecolor": "white",
             "minorgridcolor": "white",
             "startlinecolor": "#2a3f5f"
            },
            "baxis": {
             "endlinecolor": "#2a3f5f",
             "gridcolor": "white",
             "linecolor": "white",
             "minorgridcolor": "white",
             "startlinecolor": "#2a3f5f"
            },
            "type": "carpet"
           }
          ],
          "choropleth": [
           {
            "colorbar": {
             "outlinewidth": 0,
             "ticks": ""
            },
            "type": "choropleth"
           }
          ],
          "contour": [
           {
            "colorbar": {
             "outlinewidth": 0,
             "ticks": ""
            },
            "colorscale": [
             [
              0,
              "#0d0887"
             ],
             [
              0.1111111111111111,
              "#46039f"
             ],
             [
              0.2222222222222222,
              "#7201a8"
             ],
             [
              0.3333333333333333,
              "#9c179e"
             ],
             [
              0.4444444444444444,
              "#bd3786"
             ],
             [
              0.5555555555555556,
              "#d8576b"
             ],
             [
              0.6666666666666666,
              "#ed7953"
             ],
             [
              0.7777777777777778,
              "#fb9f3a"
             ],
             [
              0.8888888888888888,
              "#fdca26"
             ],
             [
              1,
              "#f0f921"
             ]
            ],
            "type": "contour"
           }
          ],
          "contourcarpet": [
           {
            "colorbar": {
             "outlinewidth": 0,
             "ticks": ""
            },
            "type": "contourcarpet"
           }
          ],
          "heatmap": [
           {
            "colorbar": {
             "outlinewidth": 0,
             "ticks": ""
            },
            "colorscale": [
             [
              0,
              "#0d0887"
             ],
             [
              0.1111111111111111,
              "#46039f"
             ],
             [
              0.2222222222222222,
              "#7201a8"
             ],
             [
              0.3333333333333333,
              "#9c179e"
             ],
             [
              0.4444444444444444,
              "#bd3786"
             ],
             [
              0.5555555555555556,
              "#d8576b"
             ],
             [
              0.6666666666666666,
              "#ed7953"
             ],
             [
              0.7777777777777778,
              "#fb9f3a"
             ],
             [
              0.8888888888888888,
              "#fdca26"
             ],
             [
              1,
              "#f0f921"
             ]
            ],
            "type": "heatmap"
           }
          ],
          "histogram": [
           {
            "marker": {
             "pattern": {
              "fillmode": "overlay",
              "size": 10,
              "solidity": 0.2
             }
            },
            "type": "histogram"
           }
          ],
          "histogram2d": [
           {
            "colorbar": {
             "outlinewidth": 0,
             "ticks": ""
            },
            "colorscale": [
             [
              0,
              "#0d0887"
             ],
             [
              0.1111111111111111,
              "#46039f"
             ],
             [
              0.2222222222222222,
              "#7201a8"
             ],
             [
              0.3333333333333333,
              "#9c179e"
             ],
             [
              0.4444444444444444,
              "#bd3786"
             ],
             [
              0.5555555555555556,
              "#d8576b"
             ],
             [
              0.6666666666666666,
              "#ed7953"
             ],
             [
              0.7777777777777778,
              "#fb9f3a"
             ],
             [
              0.8888888888888888,
              "#fdca26"
             ],
             [
              1,
              "#f0f921"
             ]
            ],
            "type": "histogram2d"
           }
          ],
          "histogram2dcontour": [
           {
            "colorbar": {
             "outlinewidth": 0,
             "ticks": ""
            },
            "colorscale": [
             [
              0,
              "#0d0887"
             ],
             [
              0.1111111111111111,
              "#46039f"
             ],
             [
              0.2222222222222222,
              "#7201a8"
             ],
             [
              0.3333333333333333,
              "#9c179e"
             ],
             [
              0.4444444444444444,
              "#bd3786"
             ],
             [
              0.5555555555555556,
              "#d8576b"
             ],
             [
              0.6666666666666666,
              "#ed7953"
             ],
             [
              0.7777777777777778,
              "#fb9f3a"
             ],
             [
              0.8888888888888888,
              "#fdca26"
             ],
             [
              1,
              "#f0f921"
             ]
            ],
            "type": "histogram2dcontour"
           }
          ],
          "mesh3d": [
           {
            "colorbar": {
             "outlinewidth": 0,
             "ticks": ""
            },
            "type": "mesh3d"
           }
          ],
          "parcoords": [
           {
            "line": {
             "colorbar": {
              "outlinewidth": 0,
              "ticks": ""
             }
            },
            "type": "parcoords"
           }
          ],
          "pie": [
           {
            "automargin": true,
            "type": "pie"
           }
          ],
          "scatter": [
           {
            "fillpattern": {
             "fillmode": "overlay",
             "size": 10,
             "solidity": 0.2
            },
            "type": "scatter"
           }
          ],
          "scatter3d": [
           {
            "line": {
             "colorbar": {
              "outlinewidth": 0,
              "ticks": ""
             }
            },
            "marker": {
             "colorbar": {
              "outlinewidth": 0,
              "ticks": ""
             }
            },
            "type": "scatter3d"
           }
          ],
          "scattercarpet": [
           {
            "marker": {
             "colorbar": {
              "outlinewidth": 0,
              "ticks": ""
             }
            },
            "type": "scattercarpet"
           }
          ],
          "scattergeo": [
           {
            "marker": {
             "colorbar": {
              "outlinewidth": 0,
              "ticks": ""
             }
            },
            "type": "scattergeo"
           }
          ],
          "scattergl": [
           {
            "marker": {
             "colorbar": {
              "outlinewidth": 0,
              "ticks": ""
             }
            },
            "type": "scattergl"
           }
          ],
          "scattermap": [
           {
            "marker": {
             "colorbar": {
              "outlinewidth": 0,
              "ticks": ""
             }
            },
            "type": "scattermap"
           }
          ],
          "scattermapbox": [
           {
            "marker": {
             "colorbar": {
              "outlinewidth": 0,
              "ticks": ""
             }
            },
            "type": "scattermapbox"
           }
          ],
          "scatterpolar": [
           {
            "marker": {
             "colorbar": {
              "outlinewidth": 0,
              "ticks": ""
             }
            },
            "type": "scatterpolar"
           }
          ],
          "scatterpolargl": [
           {
            "marker": {
             "colorbar": {
              "outlinewidth": 0,
              "ticks": ""
             }
            },
            "type": "scatterpolargl"
           }
          ],
          "scatterternary": [
           {
            "marker": {
             "colorbar": {
              "outlinewidth": 0,
              "ticks": ""
             }
            },
            "type": "scatterternary"
           }
          ],
          "surface": [
           {
            "colorbar": {
             "outlinewidth": 0,
             "ticks": ""
            },
            "colorscale": [
             [
              0,
              "#0d0887"
             ],
             [
              0.1111111111111111,
              "#46039f"
             ],
             [
              0.2222222222222222,
              "#7201a8"
             ],
             [
              0.3333333333333333,
              "#9c179e"
             ],
             [
              0.4444444444444444,
              "#bd3786"
             ],
             [
              0.5555555555555556,
              "#d8576b"
             ],
             [
              0.6666666666666666,
              "#ed7953"
             ],
             [
              0.7777777777777778,
              "#fb9f3a"
             ],
             [
              0.8888888888888888,
              "#fdca26"
             ],
             [
              1,
              "#f0f921"
             ]
            ],
            "type": "surface"
           }
          ],
          "table": [
           {
            "cells": {
             "fill": {
              "color": "#EBF0F8"
             },
             "line": {
              "color": "white"
             }
            },
            "header": {
             "fill": {
              "color": "#C8D4E3"
             },
             "line": {
              "color": "white"
             }
            },
            "type": "table"
           }
          ]
         },
         "layout": {
          "annotationdefaults": {
           "arrowcolor": "#2a3f5f",
           "arrowhead": 0,
           "arrowwidth": 1
          },
          "autotypenumbers": "strict",
          "coloraxis": {
           "colorbar": {
            "outlinewidth": 0,
            "ticks": ""
           }
          },
          "colorscale": {
           "diverging": [
            [
             0,
             "#8e0152"
            ],
            [
             0.1,
             "#c51b7d"
            ],
            [
             0.2,
             "#de77ae"
            ],
            [
             0.3,
             "#f1b6da"
            ],
            [
             0.4,
             "#fde0ef"
            ],
            [
             0.5,
             "#f7f7f7"
            ],
            [
             0.6,
             "#e6f5d0"
            ],
            [
             0.7,
             "#b8e186"
            ],
            [
             0.8,
             "#7fbc41"
            ],
            [
             0.9,
             "#4d9221"
            ],
            [
             1,
             "#276419"
            ]
           ],
           "sequential": [
            [
             0,
             "#0d0887"
            ],
            [
             0.1111111111111111,
             "#46039f"
            ],
            [
             0.2222222222222222,
             "#7201a8"
            ],
            [
             0.3333333333333333,
             "#9c179e"
            ],
            [
             0.4444444444444444,
             "#bd3786"
            ],
            [
             0.5555555555555556,
             "#d8576b"
            ],
            [
             0.6666666666666666,
             "#ed7953"
            ],
            [
             0.7777777777777778,
             "#fb9f3a"
            ],
            [
             0.8888888888888888,
             "#fdca26"
            ],
            [
             1,
             "#f0f921"
            ]
           ],
           "sequentialminus": [
            [
             0,
             "#0d0887"
            ],
            [
             0.1111111111111111,
             "#46039f"
            ],
            [
             0.2222222222222222,
             "#7201a8"
            ],
            [
             0.3333333333333333,
             "#9c179e"
            ],
            [
             0.4444444444444444,
             "#bd3786"
            ],
            [
             0.5555555555555556,
             "#d8576b"
            ],
            [
             0.6666666666666666,
             "#ed7953"
            ],
            [
             0.7777777777777778,
             "#fb9f3a"
            ],
            [
             0.8888888888888888,
             "#fdca26"
            ],
            [
             1,
             "#f0f921"
            ]
           ]
          },
          "colorway": [
           "#636efa",
           "#EF553B",
           "#00cc96",
           "#ab63fa",
           "#FFA15A",
           "#19d3f3",
           "#FF6692",
           "#B6E880",
           "#FF97FF",
           "#FECB52"
          ],
          "font": {
           "color": "#2a3f5f"
          },
          "geo": {
           "bgcolor": "white",
           "lakecolor": "white",
           "landcolor": "#E5ECF6",
           "showlakes": true,
           "showland": true,
           "subunitcolor": "white"
          },
          "hoverlabel": {
           "align": "left"
          },
          "hovermode": "closest",
          "mapbox": {
           "style": "light"
          },
          "paper_bgcolor": "white",
          "plot_bgcolor": "#E5ECF6",
          "polar": {
           "angularaxis": {
            "gridcolor": "white",
            "linecolor": "white",
            "ticks": ""
           },
           "bgcolor": "#E5ECF6",
           "radialaxis": {
            "gridcolor": "white",
            "linecolor": "white",
            "ticks": ""
           }
          },
          "scene": {
           "xaxis": {
            "backgroundcolor": "#E5ECF6",
            "gridcolor": "white",
            "gridwidth": 2,
            "linecolor": "white",
            "showbackground": true,
            "ticks": "",
            "zerolinecolor": "white"
           },
           "yaxis": {
            "backgroundcolor": "#E5ECF6",
            "gridcolor": "white",
            "gridwidth": 2,
            "linecolor": "white",
            "showbackground": true,
            "ticks": "",
            "zerolinecolor": "white"
           },
           "zaxis": {
            "backgroundcolor": "#E5ECF6",
            "gridcolor": "white",
            "gridwidth": 2,
            "linecolor": "white",
            "showbackground": true,
            "ticks": "",
            "zerolinecolor": "white"
           }
          },
          "shapedefaults": {
           "line": {
            "color": "#2a3f5f"
           }
          },
          "ternary": {
           "aaxis": {
            "gridcolor": "white",
            "linecolor": "white",
            "ticks": ""
           },
           "baxis": {
            "gridcolor": "white",
            "linecolor": "white",
            "ticks": ""
           },
           "bgcolor": "#E5ECF6",
           "caxis": {
            "gridcolor": "white",
            "linecolor": "white",
            "ticks": ""
           }
          },
          "title": {
           "x": 0.05
          },
          "xaxis": {
           "automargin": true,
           "gridcolor": "white",
           "linecolor": "white",
           "ticks": "",
           "title": {
            "standoff": 15
           },
           "zerolinecolor": "white",
           "zerolinewidth": 2
          },
          "yaxis": {
           "automargin": true,
           "gridcolor": "white",
           "linecolor": "white",
           "ticks": "",
           "title": {
            "standoff": 15
           },
           "zerolinecolor": "white",
           "zerolinewidth": 2
          }
         }
        },
        "title": {
         "text": "Cantidad de trámites por provincia y tipo de trámite"
        },
        "xaxis": {
         "anchor": "y",
         "domain": [
          0,
          1
         ],
         "title": {
          "text": "Provincia"
         }
        },
        "yaxis": {
         "anchor": "x",
         "domain": [
          0,
          1
         ],
         "title": {
          "text": "Totalidad de Trámites"
         }
        }
       }
      }
     },
     "metadata": {},
     "output_type": "display_data"
    }
   ],
   "source": [
    "px.bar(\n",
    "    df.groupby(['registro_seccional_provincia', 'tramite_tipo']).size().reset_index(name='cantidad'),\n",
    "    x=\"registro_seccional_provincia\",\n",
    "    y=\"cantidad\",\n",
    "    color=\"tramite_tipo\",\n",
    "    title=\"Cantidad de trámites por provincia y tipo de trámite\",\n",
    "    labels={\"registro_seccional_provincia\": \"Provincia\", \"cantidad\": \"Totalidad de Trámites\", \"tramite_tipo\": \"Tramite Tipo\"}\n",
    ")"
   ]
  },
  {
   "cell_type": "markdown",
   "id": "6b5e6bd0",
   "metadata": {},
   "source": [
    "MEDIDAS JUDICIALES - ANOTACION ----> Vehículo Embargado\n",
    "\n",
    "MEDIDAS JUDICIALES - LEVANTAMIENTO ---->Vehículo Liberado\n",
    "\n",
    "En el grafico de distribución de trámites por provincia y tipo de trámite, se puede ver que las provincias de Buenos Aires y Córdoba existen una mayor cantidad de registros, tanto en embargos como en levantamientos de embargos. Esto podría deberse a la mayor cantidad de vehículos registrados en estas provincias o a una mayor actividad económica y judicial que impacta en la generación de embargos, y/o su levantamiento."
   ]
  },
  {
   "cell_type": "markdown",
   "id": "d4700118",
   "metadata": {},
   "source": [
    "2- La ocurrencia de embargos o levantamientos, contra año del modelo del automotor"
   ]
  },
  {
   "cell_type": "code",
   "execution_count": 376,
   "id": "b0589988",
   "metadata": {},
   "outputs": [
    {
     "data": {
      "image/png": "[encoded data removed]",
      "text/plain": [
       "<Figure size 1200x600 with 1 Axes>"
      ]
     },
     "metadata": {},
     "output_type": "display_data"
    }
   ],
   "source": [
    "# Filtre autos con año de modelo válido y desde 1965\n",
    "df_validos = df[df['automotor_anio_modelo'].notnull() & (df['automotor_anio_modelo'] >= 1965)]\n",
    "# Rangos para el grafico\n",
    "min_anio = int(df_validos['automotor_anio_modelo'].min())\n",
    "max_anio = int(df_validos['automotor_anio_modelo'].max())\n",
    "\n",
    "cantidad_modelo = (df_validos.groupby('automotor_anio_modelo').size().reset_index(name='cantidad'))\n",
    "# Media móvil de 5 años para la tendencia\n",
    "cantidad_modelo['media_movil'] = cantidad_modelo['cantidad'].rolling(window=5, center=True, min_periods=1).mean()\n",
    "\n",
    "plt.figure(figsize=(12, 6))\n",
    "plt.bar(\n",
    "    cantidad_modelo['automotor_anio_modelo'], \n",
    "    cantidad_modelo['cantidad'], \n",
    "    color='royalblue', label='Cantidad anual'\n",
    "    )\n",
    "plt.plot(\n",
    "    cantidad_modelo['automotor_anio_modelo'],\n",
    "    cantidad_modelo['media_movil'], \n",
    "    color='red', linewidth=2, \n",
    "    label='Tendencia media móvil 5 años'\n",
    "    )\n",
    "\n",
    "plt.xlabel(\"Año del Modelo\")\n",
    "plt.ylabel(\"Cantidad de Trámites\")\n",
    "plt.title(\"Cantidad de trámites según el año del modelo del automotor\")\n",
    "plt.legend()\n",
    "plt.tight_layout()\n",
    "plt.show()"
   ]
  },
  {
   "cell_type": "markdown",
   "id": "e8e7406e",
   "metadata": {},
   "source": [
    "Se registra un mayor volumen de trámites (embargos y levantamientos) en vehículos más nuevos, especialmente entre los modelos 2010 y 2020, lo que sugiere una mayor exposición de estos autos a medidas judiciales. Esto podría deberse a que, al tener un mayor valor económico, son utilizados con mayor frecuencia como garantía en conflictos financieros o judiciales. Y tambien mayor cantidad de modelos de esos años disponibles"
   ]
  },
  {
   "cell_type": "markdown",
   "id": "99a449f6",
   "metadata": {},
   "source": [
    "3-Relación entre año del modelo del automotor y año de inscripción inicial"
   ]
  },
  {
   "cell_type": "code",
   "execution_count": 377,
   "id": "94107056",
   "metadata": {},
   "outputs": [
    {
     "data": {
      "image/png": "[encoded data removed]",
      "text/plain": [
       "<Figure size 1000x600 with 1 Axes>"
      ]
     },
     "metadata": {},
     "output_type": "display_data"
    }
   ],
   "source": [
    "# Convierte la columna de inscripción inicial a formato fecha y extraemos el año\n",
    "df['fecha_inscripcion_inicial'] = pd.to_datetime(df['fecha_inscripcion_inicial'], errors='coerce')\n",
    "df['anio_inscripcion_inicial'] = df['fecha_inscripcion_inicial'].dt.year\n",
    "\n",
    "# Filtra los datos: solo autos con año de modelo y año de inscripción válidos, y modelos desde 1960\n",
    "df_plot = df.dropna(subset=['automotor_anio_modelo', 'anio_inscripcion_inicial'])\n",
    "df_plot = df_plot[df_plot['automotor_anio_modelo'] >= 1960]\n",
    "\n",
    "\n",
    "plt.style.use('seaborn-v0_8-whitegrid')\n",
    "plt.figure(figsize=(10, 6))\n",
    "\n",
    "\n",
    "sns.scatterplot(\n",
    "    data=df_plot,\n",
    "    x='automotor_anio_modelo',\n",
    "    y='anio_inscripcion_inicial',\n",
    "    color=\"#04ADAD\",        \n",
    "    alpha=0.5,\n",
    "    s=50,\n",
    "    edgecolor=\"#4A0505\",     \n",
    "    linewidth=0.7\n",
    ")\n",
    "\n",
    "plt.xlabel(\"Año del Modelo del Automotor\", fontsize=12)\n",
    "plt.ylabel(\"Año de Inscripción Inicial\", fontsize=12)\n",
    "plt.title(\"Modelo del automotor frente año de inscripción inicial\", fontsize=14)\n",
    "\n",
    "# Límites de los ejes para mejor visualización\n",
    "plt.xlim(1960, df_plot['automotor_anio_modelo'].max()+1)\n",
    "plt.ylim(1960, df_plot['anio_inscripcion_inicial'].max()+1)\n",
    "\n",
    "plt.grid(True, linestyle='--', alpha=0.4)\n",
    "plt.tight_layout()\n",
    "plt.show()"
   ]
  },
  {
   "cell_type": "markdown",
   "id": "89345dfd",
   "metadata": {},
   "source": [
    "Este gráfico de dispersión muestra una fuerte relación entre el año del modelo del automotor y el año de inscripción inicial: la mayoría de los vehículos son inscriptos al poco tiempo de su fabricación. Sin embargo, también se observan inscripciones de modelos antiguos en años recientes, lo que puede indicar transferencias, regularizaciones o inscripciones tardías. Este comportamiento es relevante para entender cómo los embargos judiciales pueden afectar tanto a vehículos nuevos como a usados, y cómo la dinámica del mercado automotor influye en la exposición a medidas judiciales."
   ]
  },
  {
   "cell_type": "markdown",
   "id": "56689c48",
   "metadata": {},
   "source": [
    "4-Distribución de género de los titulares de vehículos embargado"
   ]
  },
  {
   "cell_type": "code",
   "execution_count": 378,
   "id": "f9169fcf",
   "metadata": {},
   "outputs": [
    {
     "data": {
      "image/png": "[encoded data removed]",
      "text/plain": [
       "<Figure size 600x600 with 1 Axes>"
      ]
     },
     "metadata": {},
     "output_type": "display_data"
    }
   ],
   "source": [
    "genero_counts = df['titular_genero'].value_counts(dropna=True)\n",
    "\n",
    "# Paleta personalizada de colores pastel\n",
    "colores = ['#66c2a5', '#fc8d62', '#8da0cb', '#ffd92f', '#e78ac3']\n",
    "\n",
    "plt.figure(figsize=(6, 6))\n",
    "plt.pie(\n",
    "    genero_counts,\n",
    "    labels=genero_counts.index,\n",
    "    autopct='%1.1f%%',\n",
    "    startangle=90,\n",
    "    colors=colores\n",
    ")\n",
    "plt.title(\"Distribución de género de los titulares\")\n",
    "plt.tight_layout()\n",
    "plt.show()"
   ]
  },
  {
   "cell_type": "markdown",
   "id": "5ca907d4",
   "metadata": {},
   "source": [
    "El gráfico de torta muestra que la mayoría de los embargos judiciales sobre automotores recaen sobre titulares de género masculino, seguidos por el género femenino y, en menor medida, otros géneros. Esto refleja la mayor proporción de hombres como titulares de vehículos en Argentina, pero también puede indicar que los hombres están más expuestos a situaciones financieras o legales que derivan en embargos. Esta diferencia de género es relevante para comprender el perfil de quienes se ven afectados por medidas judiciales sobre automotores."
   ]
  }
 ],
 "metadata": {
  "kernelspec": {
   "display_name": "Python 3",
   "language": "python",
   "name": "python3"
  },
  "language_info": {
   "codemirror_mode": {
    "name": "ipython",
    "version": 3
   },
   "file_extension": ".py",
   "mimetype": "text/x-python",
   "name": "python",
   "nbconvert_exporter": "python",
   "pygments_lexer": "ipython3",
   "version": "3.12.6"
  }
 },
 "nbformat": 4,
 "nbformat_minor": 5
}
